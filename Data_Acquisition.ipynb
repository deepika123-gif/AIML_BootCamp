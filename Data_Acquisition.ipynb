{
 "cells": [
  {
   "cell_type": "code",
   "execution_count": 97,
   "id": "0832eb3a",
   "metadata": {},
   "outputs": [
    {
     "name": "stdout",
     "output_type": "stream",
     "text": [
      "Random dog image url below:\n",
      "\n",
      " https://images.dog.ceo/breeds/borzoi/n02090622_7732.jpg\n"
     ]
    },
    {
     "data": {
      "text/html": [
       "<img src=\"https://images.dog.ceo/breeds/borzoi/n02090622_7732.jpg\" width=\"500 height=\"500\">"
      ],
      "text/plain": [
       "<IPython.core.display.HTML object>"
      ]
     },
     "execution_count": 97,
     "metadata": {},
     "output_type": "execute_result"
    }
   ],
   "source": [
    "# combined code\n",
    "\n",
    "\n",
    "#import the requests library\n",
    "import requests\n",
    "\n",
    "#API endpoint\n",
    "url=\"https://dog.ceo/api/breeds/image/random\"\n",
    "\n",
    "#Get request to fetch a random dog image\n",
    "response=requests.get(url)\n",
    "\n",
    "#Check if the request was successful\n",
    "response.status_code\n",
    "\n",
    "if response.status_code==200:\n",
    "    data=response.json()\n",
    "\n",
    "    #Extract the image url from the json data\n",
    "    dog_img=data['message']\n",
    "    print(\"Random dog image url below:\\n\\n\",dog_img)\n",
    "else:\n",
    "    print(\"Failed to retrieve data.Status_code: \",response.status_coe)\n",
    "\n",
    "#URL,print the actual image of the Url here\n",
    "from IPython.display import HTML\n",
    "\n",
    "HTML(f'<img src=\"{dog_img}\" width=\"500 height=\"500\">')"
   ]
  }
 ],
 "metadata": {
  "kernelspec": {
   "display_name": "Python 3",
   "language": "python",
   "name": "python3"
  },
  "language_info": {
   "codemirror_mode": {
    "name": "ipython",
    "version": 3
   },
   "file_extension": ".py",
   "mimetype": "text/x-python",
   "name": "python",
   "nbconvert_exporter": "python",
   "pygments_lexer": "ipython3",
   "version": "3.13.2"
  }
 },
 "nbformat": 4,
 "nbformat_minor": 5
}
