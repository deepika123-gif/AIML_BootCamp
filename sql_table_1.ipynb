{
 "cells": [
  {
   "cell_type": "markdown",
   "id": "53b4effe",
   "metadata": {},
   "source": [
    "<h2><p>Create a SQL table </p></h2>"
   ]
  },
  {
   "cell_type": "code",
   "execution_count": 16,
   "id": "1bd5a33c",
   "metadata": {},
   "outputs": [],
   "source": [
    "import sqlite3 as sql"
   ]
  },
  {
   "cell_type": "code",
   "execution_count": 17,
   "id": "fb39d451",
   "metadata": {},
   "outputs": [],
   "source": [
    "#create a connection with a database\n",
    "connection=sql.connect('1.1-library_db')"
   ]
  },
  {
   "cell_type": "code",
   "execution_count": 18,
   "id": "8f9fb1ff",
   "metadata": {},
   "outputs": [],
   "source": [
    "#create cursor object using the connection\n",
    "cursor=connection.cursor()"
   ]
  },
  {
   "cell_type": "code",
   "execution_count": 19,
   "id": "2f449c7f",
   "metadata": {},
   "outputs": [
    {
     "data": {
      "text/plain": [
       "<sqlite3.Cursor at 0x1cd5bee2a40>"
      ]
     },
     "execution_count": 19,
     "metadata": {},
     "output_type": "execute_result"
    }
   ],
   "source": [
    "cursor.execute('''\n",
    "CREATE TABLE IF NOT EXISTS members (\n",
    "    Member_Id  PRIMARY KEY,\n",
    "    Name VARCHAR(50),\n",
    "    Email VARCHAR(50) ,\n",
    "    Join_Date DATE );\n",
    "               ''')\n"
   ]
  },
  {
   "cell_type": "code",
   "execution_count": 20,
   "id": "52d36189",
   "metadata": {},
   "outputs": [],
   "source": [
    "connection.commit()"
   ]
  },
  {
   "cell_type": "code",
   "execution_count": 21,
   "id": "9b4e5768",
   "metadata": {},
   "outputs": [
    {
     "data": {
      "text/plain": [
       "<sqlite3.Cursor at 0x1cd5bee2a40>"
      ]
     },
     "execution_count": 21,
     "metadata": {},
     "output_type": "execute_result"
    }
   ],
   "source": [
    "cursor.execute('''\n",
    "               \n",
    "insert into members(Member_Id, Name,Email,Join_Date)\n",
    "values(2322001,'Isha','ishadhiman200@gmail.com','11-01-2022');\n",
    "               ''')"
   ]
  },
  {
   "cell_type": "code",
   "execution_count": 22,
   "id": "507ebab8",
   "metadata": {},
   "outputs": [
    {
     "data": {
      "text/plain": [
       "<sqlite3.Cursor at 0x1cd5bee2a40>"
      ]
     },
     "execution_count": 22,
     "metadata": {},
     "output_type": "execute_result"
    }
   ],
   "source": [
    "cursor.execute('''\n",
    "insert into members(Member_Id, Name,Email,Join_Date)\n",
    "values(2322010,'Deepika','Deepika810@gmail.com','23-08-2010');\n",
    "               ''')"
   ]
  },
  {
   "cell_type": "code",
   "execution_count": 23,
   "id": "4365e710",
   "metadata": {},
   "outputs": [
    {
     "data": {
      "text/plain": [
       "<sqlite3.Cursor at 0x1cd5bee2a40>"
      ]
     },
     "execution_count": 23,
     "metadata": {},
     "output_type": "execute_result"
    }
   ],
   "source": [
    "cursor.execute('''\n",
    "insert into members(Member_Id, Name,Email,Join_Date)\n",
    "values(2322810,'Neha','nehaarya001@gmail.com','17-03-2012');\n",
    "               ''')"
   ]
  },
  {
   "cell_type": "code",
   "execution_count": 24,
   "id": "2da9a40f",
   "metadata": {},
   "outputs": [
    {
     "data": {
      "text/plain": [
       "<sqlite3.Cursor at 0x1cd5bee2a40>"
      ]
     },
     "execution_count": 24,
     "metadata": {},
     "output_type": "execute_result"
    }
   ],
   "source": [
    "cursor.execute('''\n",
    "insert into members(Member_Id, Name,Email,Join_Date)values(2311001,'vishal','vishal230299@gmail.com','20-01-2024');\n",
    "\n",
    "''')"
   ]
  },
  {
   "cell_type": "code",
   "execution_count": 25,
   "id": "8070b4d3",
   "metadata": {},
   "outputs": [],
   "source": [
    "cursor.execute('''\n",
    "select*from members;\n",
    "''')\n",
    "results_1=cursor.fetchall()"
   ]
  },
  {
   "cell_type": "code",
   "execution_count": 26,
   "id": "4ae74d18",
   "metadata": {},
   "outputs": [
    {
     "data": {
      "text/html": [
       "<div>\n",
       "<style scoped>\n",
       "    .dataframe tbody tr th:only-of-type {\n",
       "        vertical-align: middle;\n",
       "    }\n",
       "\n",
       "    .dataframe tbody tr th {\n",
       "        vertical-align: top;\n",
       "    }\n",
       "\n",
       "    .dataframe thead th {\n",
       "        text-align: right;\n",
       "    }\n",
       "</style>\n",
       "<table border=\"1\" class=\"dataframe\">\n",
       "  <thead>\n",
       "    <tr style=\"text-align: right;\">\n",
       "      <th></th>\n",
       "      <th>0</th>\n",
       "      <th>1</th>\n",
       "      <th>2</th>\n",
       "      <th>3</th>\n",
       "    </tr>\n",
       "  </thead>\n",
       "  <tbody>\n",
       "    <tr>\n",
       "      <th>0</th>\n",
       "      <td>2322001</td>\n",
       "      <td>Isha</td>\n",
       "      <td>ishadhiman200@gmail.com</td>\n",
       "      <td>11-01-2022</td>\n",
       "    </tr>\n",
       "    <tr>\n",
       "      <th>1</th>\n",
       "      <td>2322010</td>\n",
       "      <td>Deepika</td>\n",
       "      <td>Deepika810@gmail.com</td>\n",
       "      <td>23-08-2010</td>\n",
       "    </tr>\n",
       "    <tr>\n",
       "      <th>2</th>\n",
       "      <td>2322810</td>\n",
       "      <td>Neha</td>\n",
       "      <td>nehaarya001@gmail.com</td>\n",
       "      <td>17-03-2012</td>\n",
       "    </tr>\n",
       "    <tr>\n",
       "      <th>3</th>\n",
       "      <td>2311001</td>\n",
       "      <td>vishal</td>\n",
       "      <td>vishal230299@gmail.com</td>\n",
       "      <td>20-01-2024</td>\n",
       "    </tr>\n",
       "  </tbody>\n",
       "</table>\n",
       "</div>"
      ],
      "text/plain": [
       "         0        1                        2           3\n",
       "0  2322001     Isha  ishadhiman200@gmail.com  11-01-2022\n",
       "1  2322010  Deepika     Deepika810@gmail.com  23-08-2010\n",
       "2  2322810     Neha    nehaarya001@gmail.com  17-03-2012\n",
       "3  2311001   vishal   vishal230299@gmail.com  20-01-2024"
      ]
     },
     "execution_count": 26,
     "metadata": {},
     "output_type": "execute_result"
    }
   ],
   "source": [
    "import pandas as pd\n",
    "df_1=pd.DataFrame(results_1)\n",
    "df_1"
   ]
  },
  {
   "cell_type": "code",
   "execution_count": 27,
   "id": "29af1d95",
   "metadata": {},
   "outputs": [],
   "source": [
    "#list of al members who joined after november 20 ,2024.\n",
    "cursor.execute('''\n",
    "select*from members where Join_Date>'20-11-2024';\n",
    "''')\n",
    "results_2=cursor.fetchall()"
   ]
  },
  {
   "cell_type": "code",
   "execution_count": 28,
   "id": "199213ad",
   "metadata": {},
   "outputs": [
    {
     "data": {
      "text/html": [
       "<div>\n",
       "<style scoped>\n",
       "    .dataframe tbody tr th:only-of-type {\n",
       "        vertical-align: middle;\n",
       "    }\n",
       "\n",
       "    .dataframe tbody tr th {\n",
       "        vertical-align: top;\n",
       "    }\n",
       "\n",
       "    .dataframe thead th {\n",
       "        text-align: right;\n",
       "    }\n",
       "</style>\n",
       "<table border=\"1\" class=\"dataframe\">\n",
       "  <thead>\n",
       "    <tr style=\"text-align: right;\">\n",
       "      <th></th>\n",
       "      <th>0</th>\n",
       "      <th>1</th>\n",
       "      <th>2</th>\n",
       "      <th>3</th>\n",
       "    </tr>\n",
       "  </thead>\n",
       "  <tbody>\n",
       "    <tr>\n",
       "      <th>0</th>\n",
       "      <td>2322010</td>\n",
       "      <td>Deepika</td>\n",
       "      <td>Deepika810@gmail.com</td>\n",
       "      <td>23-08-2010</td>\n",
       "    </tr>\n",
       "  </tbody>\n",
       "</table>\n",
       "</div>"
      ],
      "text/plain": [
       "         0        1                     2           3\n",
       "0  2322010  Deepika  Deepika810@gmail.com  23-08-2010"
      ]
     },
     "execution_count": 28,
     "metadata": {},
     "output_type": "execute_result"
    }
   ],
   "source": [
    "df_2=pd.DataFrame(results_2)\n",
    "df_2"
   ]
  }
 ],
 "metadata": {
  "kernelspec": {
   "display_name": "Python 3",
   "language": "python",
   "name": "python3"
  },
  "language_info": {
   "codemirror_mode": {
    "name": "ipython",
    "version": 3
   },
   "file_extension": ".py",
   "mimetype": "text/x-python",
   "name": "python",
   "nbconvert_exporter": "python",
   "pygments_lexer": "ipython3",
   "version": "3.13.2"
  }
 },
 "nbformat": 4,
 "nbformat_minor": 5
}
