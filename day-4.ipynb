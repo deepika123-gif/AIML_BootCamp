{
 "cells": [
  {
   "cell_type": "code",
   "execution_count": 1,
   "id": "2c5577f1",
   "metadata": {},
   "outputs": [],
   "source": [
    "#import libraries\n",
    "import pandas as pd"
   ]
  },
  {
   "cell_type": "code",
   "execution_count": 20,
   "id": "4d6714f9",
   "metadata": {},
   "outputs": [],
   "source": [
    "student_information={\n",
    "    'Roll_Number':[11,12,13,14],\n",
    "    'Student_Name':['Radha','Rahul','Ankush','Rajesh'],\n",
    "    'C':[66,56,47,33],\n",
    "    'C++':[99,45,22,98],\n",
    "    'Java':[90,43,22,19],\n",
    "    'Python':[80,66,92,55],\n",
    "}\n"
   ]
  },
  {
   "cell_type": "code",
   "execution_count": 21,
   "id": "a506a886",
   "metadata": {},
   "outputs": [
    {
     "name": "stdout",
     "output_type": "stream",
     "text": [
      "   Roll_Number Student_Name   C  C++  Java  Python\n",
      "0           11        Radha  66   99    90      80\n",
      "1           12        Rahul  56   45    43      66\n",
      "2           13       Ankush  47   22    22      92\n",
      "3           14       Rajesh  33   98    19      55\n"
     ]
    }
   ],
   "source": [
    "df=pd.DataFrame(student_information)\n",
    "\n",
    "print(df)#Printing the DataFrame"
   ]
  },
  {
   "cell_type": "code",
   "execution_count": 22,
   "id": "86d862a0",
   "metadata": {},
   "outputs": [],
   "source": [
    "#save DataFrame to a csv file\n",
    "df.to_csv('student_information.csv')"
   ]
  },
  {
   "cell_type": "code",
   "execution_count": 23,
   "id": "ee17af8e",
   "metadata": {},
   "outputs": [],
   "source": [
    "#Reading the csv file\n",
    "\n",
    "df = pd.read_csv('student_information.csv')"
   ]
  },
  {
   "cell_type": "code",
   "execution_count": null,
   "id": "1ebbe792",
   "metadata": {},
   "outputs": [
    {
     "name": "stdout",
     "output_type": "stream",
     "text": [
      "   Unnamed: 0  Roll_Number Student_Name   C  C++  Java  Python\n",
      "0           0           11        Radha  66   99    90      80\n",
      "1           1           12        Rahul  56   45    43      66\n",
      "2           2           13       Ankush  47   22    22      92\n",
      "3           3           14       Rajesh  33   98    19      55\n"
     ]
    }
   ],
   "source": [
    "#Print the DataFrame after reading from the CSV file\n",
    "print(df)"
   ]
  },
  {
   "cell_type": "code",
   "execution_count": 30,
   "id": "554224a5",
   "metadata": {},
   "outputs": [
    {
     "name": "stdout",
     "output_type": "stream",
     "text": [
      "   Unnamed: 0  Roll_Number  C++  Java\n",
      "0           0           11   99    90\n",
      "1           1           12   45    43\n",
      "2           2           13   22    22\n",
      "3           3           14   98    19\n"
     ]
    }
   ],
   "source": [
    "#Drop (delete) the 'Student_Name','C' ,'Python' columns from the dataframe\n",
    "\n",
    "df_new=df.drop(columns=['Student_Name','C','Python'])\n",
    "print(df_new)    #Print the DataFrame after dropping the columns"
   ]
  }
 ],
 "metadata": {
  "kernelspec": {
   "display_name": "Python 3",
   "language": "python",
   "name": "python3"
  },
  "language_info": {
   "codemirror_mode": {
    "name": "ipython",
    "version": 3
   },
   "file_extension": ".py",
   "mimetype": "text/x-python",
   "name": "python",
   "nbconvert_exporter": "python",
   "pygments_lexer": "ipython3",
   "version": "3.13.2"
  }
 },
 "nbformat": 4,
 "nbformat_minor": 5
}
