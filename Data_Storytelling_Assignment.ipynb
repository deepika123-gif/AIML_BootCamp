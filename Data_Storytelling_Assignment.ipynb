{
 "cells": [
  {
   "cell_type": "markdown",
   "id": "1785f91e",
   "metadata": {},
   "source": [
    "<div style=\"background-color:rgb(31, 174, 222); padding: 10px; height: 70px; border-radius: 15px;\">\n",
    "    <div style=\"font-family: 'Georgia', serif; font-size: 20px; padding: 10px; text-align: right; position: absolute; right: 20px;\">\n",
    "        Deepika <br>\n",
    "        <span style=\"font-family: 'Arial', sans-serif;font-size: 12px; color: #0a0a0a;\">Tech Skills Trainee<b>|Data Story Telling|</b></span> <!--- Suhana | CodroidHub Private Limited | AI/ML Consultant --->\n",
    "    </div>\n",
    "</div>"
   ]
  },
  {
   "cell_type": "markdown",
   "metadata": {},
   "source": [
    "<div style=\"background-color: #002147; padding: 10px; text-align: center; color: white; font-size: 32px; font-family: 'Arial', sans-serif;\">\n",
    "Data Story Telling\n",
    "<br>\n",
    "    <h3 style=\"text-align: center; color: white; font-size: 15px; font-family: 'Arial', sans-serif;\"></h3>\n",
    "</div>"
   ]
  },
  {
   "cell_type": "markdown",
   "id": "a87683c3",
   "metadata": {},
   "source": [
    "<div style=\"background-color: lightgreen; color: black; padding: 4px;\">\n",
    "<h1> What is Data Story Telling?\n",
    "</h1></div>"
   ]
  },
  {
   "cell_type": "markdown",
   "metadata": {},
   "source": [
    "<h3><p>Data storytelling is the practice of transforming data into a compelling narrative that effectively communicates insights to an audience. It focuses on making complex information understandable and engaging by weaving data analysis findings into a story that influences decisions.</p></h3\n",
    ">"
   ]
  },
  {
   "cell_type": "markdown",
   "id": "cb3cdf00",
   "metadata": {},
   "source": [
    "<div style=\"background-color: lightgreen; color: black; padding: 4px;\">\n",
    "<h1>\n",
    "How data storytelling works\n",
    "\n",
    "</h1></div>"
   ]
  },
  {
   "cell_type": "markdown",
   "id": "55119afa",
   "metadata": {},
   "source": [
    "<h3><p>Data storytelling is a way to convey and interpret complicated metrics for business executives and customers. A good data story uses interactive data visualizations to present a compelling narrative that makes the entire process and message easy to understand.<br><br>\n",
    "\n",
    "<b>\n",
    "For example,</b> marketing executives using Google Analytics website performance data to analyze a website marketing campaign might find the data on its own difficult to understand. However, when this data is transformed into bar charts and other graphics, it visually communicates pertinent information and insight into the campaign's performance. Data storytelling goes a step further, wrapping the data and charts in a narrative that interprets how website performance affected the marketing campaign.\n",
    "\n",
    "Tom Davenport, professor of information technology and management at Babson College in Wellesley, Mass., said in a 2015 Deloitte Insights article that it's the narrative that's important, no matter the medium. \"Narrative is the way we simplify and make sense of a complex world,\" he said. \"It supplies context, insight, interpretation -- all the things that make data meaningful and analytics more relevant and interesting.\"\n",
    "\n",
    "Another expert, Howard Dresner, founder and chief research officer of Dresner Advisory Services, described data storytelling as a set of features within visualization tools that enable a more interactive experience with the data.\n",
    "\n",
    "Data storytelling offers a narrative with a beginning, middle and end. This lets people who aren't data analysts understand the importance and significance of the data. The narrative is told as an example or experience. It should be unbiased and provided in the proper context. For example, in conveying a problem with a product, the storyteller uses collected data to describe how product users encounter this issue and how it affects them.\n",
    "\n",
    "\n",
    "\n",
    "\n",
    "</p></h3>"
   ]
  },
  {
   "cell_type": "markdown",
   "id": "7f884078",
   "metadata": {},
   "source": [
    "<div style=\"background-color: lightgreen; color: black; padding: 4px;\">\n",
    "<h1>\n",
    "Importance of data storytelling\n",
    "\n",
    "</h1></div>"
   ]
  },
  {
   "cell_type": "markdown",
   "id": "b6084b9a",
   "metadata": {},
   "source": [
    "<h3><p>Telling stories frames information in a way that's clear and memorable. A story can engage people and present the data in a way they can process, comprehend and empathize with any effects the data shows.</p>\n",
    "<p>\n",
    "Data storytelling is a great way to gather insights about data for the following people:\n",
    "</p><ul><li>\n",
    "People who lack formal training in how to read data gathered from the dashboards of data analysis tools.\n",
    "</li>\n",
    "<li>\n",
    "People who are easily overwhelmed by a massive amount of data points and have trouble finding meaning or remembering data presented to them in a typical dashboard, chart or graph.</li></ul>\n",
    "</p></h3>"
   ]
  },
  {
   "cell_type": "markdown",
   "id": "3de4df98",
   "metadata": {},
   "source": [
    "<div style=\"background-color: lightgreen; color: black; padding: 4px;\">\n",
    "<h1>\n",
    "The Three components of data storytelling\n",
    "\n",
    "</h1></div>"
   ]
  },
  {
   "cell_type": "markdown",
   "id": "6a343e46",
   "metadata": {},
   "source": [
    "<h3><p>Data storytelling is made up of three key parts:\n",
    "</p>\n",
    "<p><b><u>\n",
    "Data. </u></b>The data set is the base of a data story. The storyteller gathers accurate data and analysis from other research, surveys, charts, graphs and dashboards using tools for analyzing data.\n",
    "<b><u></p><p>\n",
    "Narrative.</u></b> This is a verbal or written storyline that uses data to communicate insights effectively. The narrative should be within the context of the data and present a clear explanation of what the data means and its importance.</p>\n",
    "<b><u><p>\n",
    "Visualizations.</u></b> These provide representations of the data and the narrative and are used to communicate the story more clearly. Visualizations include graphs, charts, diagrams, videos and photos.</p>"
   ]
  },
  {
   "cell_type": "markdown",
   "id": "67c0318b",
   "metadata": {},
   "source": [
    "<div style=\"background-color: lightgreen; color: black; padding: 4px;\">\n",
    "<h1>\n",
    "What makes a good data story?\n",
    "\n",
    "</h1></div>"
   ]
  },
  {
   "cell_type": "markdown",
   "id": "b9dc6a7d",
   "metadata": {},
   "source": [
    "<h3><p>Besides data, narrative and visualizations, a good data story must also include the following elements:\n",
    "</p><ul><li><b><u>\n",
    "Setting. </u></b>The setting should be based on the data. If the data is about internal systems, then the setting is inside an organization with the same internal setup.</p>\n",
    "<p><b>  <u>\n",
    "Characters.</u></b> The characters could include customers, the organization, stakeholders and other key players the data surrounds.\n",
    "</p>\n",
    "<p><b><u>\n",
    "Conflict. </u></b>The conflict is any issue and the effects of that issue that the data might present. The conflict affects the characters or setting.\n",
    "</p>\n",
    "<p><b><u>\n",
    "Resolution. </u></b>The resolution is a proposed solution to any apparent issues or anything that might help inform the decision-making processes.\n",
    "</p>\n",
    "\n",
    "<p>\n",
    "Data stories don't always need conflicts. However, if this element of the data story is skipped, the resolution is a recommended course of action.\n",
    "</p><p>\n",
    "Each insight that the data shows can also be illustrated with a visualization to help the audience better follow along. Communicating an effective data story requires hard skills and soft skills.\n",
    "\n",
    "</p></h3>"
   ]
  },
  {
   "cell_type": "markdown",
   "id": "128f5bfd",
   "metadata": {},
   "source": [
    "<div style=\"background-color: lightgreen; color: black; padding: 4px;\">\n",
    "<h1>\n",
    "Data stories vs. data visualizations\n",
    "\n",
    "</h1></div>"
   ]
  },
  {
   "cell_type": "markdown",
   "id": "18672ba2",
   "metadata": {},
   "source": [
    "<h3><p>Data storytelling and visualization are ideally part of an overall presentation. The former uses words to convey the message, while the latter uses visuals, such as graphics, videos and photographs, to deliver the message.\n",
    "\n",
    "One important source of visuals is a system dashboard, especially one that has a good blend of images along with letters and numbers. These dashboards map and present data so it's easier to understand. Storytelling can then be used to communicate the meaning of the data with a call to action by the audience.</p></h3>"
   ]
  },
  {
   "cell_type": "markdown",
   "id": "051eaa70",
   "metadata": {},
   "source": [
    "<div style=\"background-color: lightgreen; color: black; padding: 4px;\">\n",
    "<h1>\n",
    "How to tell an effective data story\n",
    "\n",
    "</h1></div>"
   ]
  },
  {
   "cell_type": "markdown",
   "id": "542aa1fd",
   "metadata": {},
   "source": [
    "<h3><p>When preparing to deliver a data story, there is a general series of steps to follow.</p>\n",
    "<p><b><u>\n",
    "1. Know your audience:- </u></b>\n",
    "The most important step in the storytelling process is to identify and understand a prospective audience. Who is attending? What are their overall roles? What are their roles in the situation being discussed? What are their expectations?\n",
    "\n",
    "An audience of C-level people has a different perspective and expectations than a group of IT professionals. Naturally, it's preferable to have a largely homogeneous audience. With an audience of different types of people, the challenges increase considerably. The storyteller must be well prepared and adaptable to the audience.\n",
    "\n",
    "Part of knowing one's audience is discerning their expectations -- that is, knowing what they hope to learn from the story and the data behind it.</p>\n",
    "<p><b><u>\n",
    "2. Build a structured story based on facts:-</u></b>\n",
    "The story needs to have a beginning, middle and end. Technical and nontechnical elements must be woven into the storyline in ways that are clear to the audience. Discussing data-based facts isn't exciting, but a memorable story is. Take the basic information, and weave it into a story that is understandable, is believable and delivers the right message.\n",
    "</p><p><b><u>\n",
    "3. Use language your audience understands:-</u></b>\n",
    "If the audience is technical, it's OK to use technical terms and jargon. By contrast, an audience of senior managers might respond better to nontechnical terms aligned with their interest and expertise. For this audience, use business-related terms, and avoid tech jargon.</p>\n",
    "<p><b><u>\n",
    "4. Base your story in the real world:-</u></b>\n",
    "Create a story that's real and, when possible, is based on real-world events. If the story is hypothetical, be sure the audience understands that. This is where a visual storytelling tool, such as Shorthand, can be helpful.</p>\n",
    "<p><b><u>\n",
    "5. Gauge audience response and sum up:-</u></b>\n",
    "Whether you're standing at a podium or walking around a conference room, make eye contact with the audience, watch body language, and listen to their comments and questions. Finally, summarize the story, and answer any follow-on inquiries.</p>"
   ]
  },
  {
   "cell_type": "markdown",
   "id": "9cc6458c",
   "metadata": {},
   "source": [
    "<div style=\"background-color: lightgreen; color: black; padding: 4px;\">\n",
    "<h1>\n",
    "Benefits of data storytelling\n",
    "\n",
    "</h1></div>"
   ]
  },
  {
   "cell_type": "markdown",
   "id": "74a70d49",
   "metadata": {},
   "source": [
    "<h3><p>When data storytelling is performed at its best, the audience hears a compelling story based on complex information. It's then able to make better decisions to address the story's issue.\n",
    "\n",
    "It isn't enough to simply entertain, though that can be important; the end game of the story must be achieved. When the audience has that aha moment where they get the point of the story, it's an indication they understand the message.\n",
    "\n",
    "Storytelling builds on the facts of a situation and blends in real-world experience to take the data to a higher and more understandable level.\n",
    "\n",
    "</p></h3>"
   ]
  },
  {
   "cell_type": "markdown",
   "id": "37cb663c",
   "metadata": {},
   "source": [
    "<div style=\"background-color: lightgreen; color: black; padding: 4px;\">\n",
    "<h1>\n",
    "Examples of good data stories\n",
    "\n",
    "</h1></div>"
   ]
  },
  {
   "cell_type": "markdown",
   "id": "4b33f99a",
   "metadata": {},
   "source": [
    "<h3><p>Data storytellers have become increasingly popular. For example, the Spotify music app sends out recap stories annually to its users. On Dec. 1 of each year, users get a wrap-up of their music and podcast consumption with statistics based on all the music they listened to that year. Seeing this data offers an engaging way for users to understand their music listening patterns.\n",
    "\n",
    "Similarly, Slack sends an email to its customers that consists of a visual story that expresses key insights on how they've used the service.\n",
    "\n",
    "Automated Insights' natural language generation software turns data into human-sounding narratives. For example, statistics from a basketball game can become a news story. A company's sales and marketing data can be used to generate a press release.\n",
    "\n",
    "</p></h3>"
   ]
  },
  {
   "cell_type": "markdown",
   "id": "eee060f4",
   "metadata": {},
   "source": [
    "<div style=\"background-color: lightgreen; color: black; padding: 4px;\">\n",
    "<h1>\n",
    "The future of data storytelling\n",
    "\n",
    "</h1></div>"
   ]
  },
  {
   "cell_type": "markdown",
   "id": "b45fede3",
   "metadata": {},
   "source": [
    "<h3><p>Data storytelling capabilities are likely to dramatically improve in the coming years with advances in artificial intelligence (AI), machine learning and data visualization technologies. Data scientists expect storytelling tools will become more sophisticated and user-friendly. The storytelling process is already becoming simpler as the use of AI-based tools, such as ChatGPT, increases.\n",
    "\n",
    "With the proper instructions and training, AI components can sift through tons of data and synthesize it into an understandable format. These powerful tools can then highlight the most important aspects that can be used in the data story.\n",
    "\n",
    "</p></h3>"
   ]
  },
  {
   "cell_type": "markdown",
   "id": "5a5e973e",
   "metadata": {},
   "source": [
    "<div style=\"background-color: rgb(31, 174, 222); color: white; padding: 10px; text-align: center;\">\n",
    "    <h1>_________________________________END________________________________\n",
    "    </h1> </div>"
   ]
  },
  {
   "cell_type": "markdown",
   "id": "5b3058f8",
   "metadata": {},
   "source": [
    "<div style=\"background-color: #002147; color: #fff; padding: 30px; text-align: center;\">\n",
    "    <h1>THANK YOU!       \n",
    "</h1> </div>"
   ]
  }
 ],
 "metadata": {
  "language_info": {
   "name": "python"
  }
 },
 "nbformat": 4,
 "nbformat_minor": 5
}
